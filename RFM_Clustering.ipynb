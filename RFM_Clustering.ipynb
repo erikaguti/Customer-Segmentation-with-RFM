{
 "cells": [
  {
   "cell_type": "markdown",
   "metadata": {
    "id": "Fn33H3Zhf-cp"
   },
   "source": [
    "<img src = \"https://github.com/barcelonagse-datascience/academic_files/raw/master/bgsedsc_0.jpg\">\n",
    "$\\newcommand{\\bb}{\\boldsymbol{\\beta}}$\n",
    "$\\DeclareMathOperator{\\Gau}{\\mathcal{N}}$\n",
    "$\\newcommand{\\bphi}{\\boldsymbol \\phi}$\n",
    "$\\newcommand{\\bx}{\\boldsymbol{x}}$\n",
    "$\\newcommand{\\bu}{\\boldsymbol{u}}$\n",
    "$\\newcommand{\\by}{\\boldsymbol{y}}$\n",
    "$\\newcommand{\\whbb}{\\widehat{\\bb}}$\n",
    "$\\newcommand{\\hf}{\\hat{f}}$\n",
    "$\\newcommand{\\tf}{\\tilde{f}}$\n",
    "$\\newcommand{\\ybar}{\\overline{y}}$\n",
    "$\\newcommand{\\E}{\\mathbb{E}}$\n",
    "$\\newcommand{\\Var}{Var}$\n",
    "$\\newcommand{\\Cov}{Cov}$\n",
    "$\\newcommand{\\Cor}{Cor}$"
   ]
  },
  {
   "cell_type": "markdown",
   "metadata": {
    "id": "Sjc3OcApf-cq"
   },
   "source": [
    "## Retail Customer Clustering\n",
    "\n",
    "### Overview\n",
    "The dataset given is a transnational data set which contains all the transactions occurring between 01/12/2010 and 09/12/2011 for a UK-based and registered non-store online retail. The company mainly sells unique all-occasion gifts.\n",
    "\n",
    "### Business Goal\n",
    "We aim to segment the Customers based on RFM so that the company can target its customers efficiently.\n",
    "\n",
    "The RFM analysis is a marketing technique used to quantitatively rank and group customers based on the recency, frequency and monetary total of their recent transactions to identify the best customers and perform targeted marketing campaigns.\n",
    "\n",
    "### Data\n",
    "\n",
    "You are given a dataset: each row represents a transaction (so, if a given customer buys a t-shirt and socks you will have one row for the t-shirt and one row for the socks).\n",
    "\n",
    "+ InvoiceNo: id of the invoice\n",
    "+ StockCode: id of the given clothing\n",
    "+ Description: description of the clothing item\n",
    "+ Quantity: quantity purchased\n",
    "+ InvoiceDate: date of the purchase\n",
    "+ UnitPrice: unit price of the clothing item\n",
    "+ CustomerID: id of the customer\n",
    "+ Country: country of the customer\n",
    "\n",
    "\n",
    "You are asked to **develop a clustering algorithm** to be able to group clients based on their RFM:\n",
    "\n",
    "+ Recency: days from their last purchase\n",
    "+ Frecuency: how many times per month/week they buy\n",
    "+ Monetary: how much is their average ticket\n",
    "\n",
    "### Business questions\n",
    "\n",
    "1. **How many groups of customers do we have** \n",
    "2. **Which is their profile**\n",
    "\n",
    "\n",
    "### Steps\n",
    "\n",
    "You can follow those **steps** :\n",
    "1. *Explore* and understand the dataset. \n",
    "2. Data Cleansing\n",
    "3. Data preparation (RFM)\n",
    "4. Assess number of clusters\n",
    "5. Build clusters\n",
    "6. Profiling of each cluster: how often they buy, how much, are them a high value group or a low value?"
   ]
  },
  {
   "cell_type": "code",
   "execution_count": null,
   "metadata": {
    "id": "WQ68qlkq1Khs"
   },
   "outputs": [],
   "source": [
    "import pandas as pd\n",
    "import matplotlib.pyplot as plt\n",
    "from sklearn.datasets import make_blobs\n",
    "from sklearn.preprocessing import StandardScaler\n",
    "from sklearn.cluster import KMeans\n",
    "from datetime import datetime\n",
    "import seaborn as sns\n",
    "import numpy as np\n",
    "import statistics\n",
    "\n",
    "\n",
    "import warnings\n",
    "warnings.filterwarnings('ignore')"
   ]
  },
  {
   "cell_type": "code",
   "execution_count": null,
   "metadata": {
    "id": "nu2wGanC1puL"
   },
   "outputs": [],
   "source": [
    "#Import dataset\n",
    "df = pd.read_csv(\"retail_data.csv\",encoding = 'unicode_escape')"
   ]
  },
  {
   "cell_type": "code",
   "execution_count": null,
   "metadata": {
    "id": "BBvmCd5jHYWW"
   },
   "outputs": [],
   "source": [
    "def country_analysis(x):\n",
    "    return x.value_counts()\n",
    "\n",
    "def IQROutlier(data):\n",
    "    Q1 = np.nanpercentile(data, 25)\n",
    "    Q3 = np.nanpercentile(data, 75)\n",
    "    IQR = Q3 - Q1\n",
    "    lowerbound = Q1 - (IQR*3)\n",
    "    upperbound = Q3 + (IQR*3)\n",
    "\n",
    "    outliers = []\n",
    "    for i in data:\n",
    "        if i > upperbound or i < lowerbound:\n",
    "            outliers.append(1)\n",
    "        else:\n",
    "            outliers.append(0)\n",
    "    return outliers\n",
    "\n",
    "def LocalizedOutlier(columnname, granularity, dataset):\n",
    "    outliers = pd.DataFrame()\n",
    "    for code in df['{}'.format(granularity)].unique():\n",
    "        temp = df[df['{}'.format(granularity)] == code].copy()\n",
    "        temp['{}_out'.format(columnname)] = IQROutlier(temp['{}'.format(columnname)])\n",
    "        temp['mean'] = np.mean(temp['{}'.format(columnname)])\n",
    "        temp['median'] = np.median(temp['{}'.format(columnname)])\n",
    "        temp['ncount'] = len(temp['{}'.format(columnname)])\n",
    "        temp['std'] = np.std(temp['{}'.format(columnname)])\n",
    "        outliers = pd.concat([outliers, temp], ignore_index = True)\n",
    "    return outliers"
   ]
  },
  {
   "cell_type": "markdown",
   "metadata": {
    "id": "ZxQ24jix0xYw"
   },
   "source": [
    "# Step 1: Explore and Understand Dataset"
   ]
  },
  {
   "cell_type": "code",
   "execution_count": null,
   "metadata": {
    "colab": {
     "base_uri": "https://localhost:8080/",
     "height": 206
    },
    "id": "xoV3imfef-cq",
    "outputId": "a136d80f-8809-4d53-d833-e302a6c5baeb"
   },
   "outputs": [
    {
     "data": {
      "text/html": [
       "<div>\n",
       "<style scoped>\n",
       "    .dataframe tbody tr th:only-of-type {\n",
       "        vertical-align: middle;\n",
       "    }\n",
       "\n",
       "    .dataframe tbody tr th {\n",
       "        vertical-align: top;\n",
       "    }\n",
       "\n",
       "    .dataframe thead th {\n",
       "        text-align: right;\n",
       "    }\n",
       "</style>\n",
       "<table border=\"1\" class=\"dataframe\">\n",
       "  <thead>\n",
       "    <tr style=\"text-align: right;\">\n",
       "      <th></th>\n",
       "      <th>InvoiceNo</th>\n",
       "      <th>StockCode</th>\n",
       "      <th>Description</th>\n",
       "      <th>Quantity</th>\n",
       "      <th>InvoiceDate</th>\n",
       "      <th>UnitPrice</th>\n",
       "      <th>CustomerID</th>\n",
       "      <th>Country</th>\n",
       "    </tr>\n",
       "  </thead>\n",
       "  <tbody>\n",
       "    <tr>\n",
       "      <th>0</th>\n",
       "      <td>536365</td>\n",
       "      <td>85123A</td>\n",
       "      <td>WHITE HANGING HEART T-LIGHT HOLDER</td>\n",
       "      <td>6</td>\n",
       "      <td>01-12-2010 8:26</td>\n",
       "      <td>2.55</td>\n",
       "      <td>17850.0</td>\n",
       "      <td>United Kingdom</td>\n",
       "    </tr>\n",
       "    <tr>\n",
       "      <th>1</th>\n",
       "      <td>536365</td>\n",
       "      <td>71053</td>\n",
       "      <td>WHITE METAL LANTERN</td>\n",
       "      <td>6</td>\n",
       "      <td>01-12-2010 8:26</td>\n",
       "      <td>3.39</td>\n",
       "      <td>17850.0</td>\n",
       "      <td>United Kingdom</td>\n",
       "    </tr>\n",
       "    <tr>\n",
       "      <th>2</th>\n",
       "      <td>536365</td>\n",
       "      <td>84406B</td>\n",
       "      <td>CREAM CUPID HEARTS COAT HANGER</td>\n",
       "      <td>8</td>\n",
       "      <td>01-12-2010 8:26</td>\n",
       "      <td>2.75</td>\n",
       "      <td>17850.0</td>\n",
       "      <td>United Kingdom</td>\n",
       "    </tr>\n",
       "    <tr>\n",
       "      <th>3</th>\n",
       "      <td>536365</td>\n",
       "      <td>84029G</td>\n",
       "      <td>KNITTED UNION FLAG HOT WATER BOTTLE</td>\n",
       "      <td>6</td>\n",
       "      <td>01-12-2010 8:26</td>\n",
       "      <td>3.39</td>\n",
       "      <td>17850.0</td>\n",
       "      <td>United Kingdom</td>\n",
       "    </tr>\n",
       "    <tr>\n",
       "      <th>4</th>\n",
       "      <td>536365</td>\n",
       "      <td>84029E</td>\n",
       "      <td>RED WOOLLY HOTTIE WHITE HEART.</td>\n",
       "      <td>6</td>\n",
       "      <td>01-12-2010 8:26</td>\n",
       "      <td>3.39</td>\n",
       "      <td>17850.0</td>\n",
       "      <td>United Kingdom</td>\n",
       "    </tr>\n",
       "  </tbody>\n",
       "</table>\n",
       "</div>"
      ],
      "text/plain": [
       "  InvoiceNo StockCode                          Description  Quantity  \\\n",
       "0    536365    85123A   WHITE HANGING HEART T-LIGHT HOLDER         6   \n",
       "1    536365     71053                  WHITE METAL LANTERN         6   \n",
       "2    536365    84406B       CREAM CUPID HEARTS COAT HANGER         8   \n",
       "3    536365    84029G  KNITTED UNION FLAG HOT WATER BOTTLE         6   \n",
       "4    536365    84029E       RED WOOLLY HOTTIE WHITE HEART.         6   \n",
       "\n",
       "       InvoiceDate  UnitPrice  CustomerID         Country  \n",
       "0  01-12-2010 8:26       2.55     17850.0  United Kingdom  \n",
       "1  01-12-2010 8:26       3.39     17850.0  United Kingdom  \n",
       "2  01-12-2010 8:26       2.75     17850.0  United Kingdom  \n",
       "3  01-12-2010 8:26       3.39     17850.0  United Kingdom  \n",
       "4  01-12-2010 8:26       3.39     17850.0  United Kingdom  "
      ]
     },
     "execution_count": 318,
     "metadata": {},
     "output_type": "execute_result"
    }
   ],
   "source": [
    "df.head()"
   ]
  },
  {
   "cell_type": "code",
   "execution_count": null,
   "metadata": {
    "id": "J62NGdd5HYWZ",
    "outputId": "9ba6fe43-74a9-4119-f4f6-27239429ed41"
   },
   "outputs": [
    {
     "name": "stdout",
     "output_type": "stream",
     "text": [
      "<class 'pandas.core.frame.DataFrame'>\n",
      "RangeIndex: 541909 entries, 0 to 541908\n",
      "Data columns (total 8 columns):\n",
      " #   Column       Non-Null Count   Dtype  \n",
      "---  ------       --------------   -----  \n",
      " 0   InvoiceNo    541909 non-null  object \n",
      " 1   StockCode    541909 non-null  object \n",
      " 2   Description  540455 non-null  object \n",
      " 3   Quantity     541909 non-null  int64  \n",
      " 4   InvoiceDate  541909 non-null  object \n",
      " 5   UnitPrice    541909 non-null  float64\n",
      " 6   CustomerID   406829 non-null  float64\n",
      " 7   Country      541909 non-null  object \n",
      "dtypes: float64(2), int64(1), object(5)\n",
      "memory usage: 33.1+ MB\n"
     ]
    }
   ],
   "source": [
    "df.info()"
   ]
  },
  {
   "cell_type": "code",
   "execution_count": null,
   "metadata": {
    "id": "F3sUelSIHYWa",
    "outputId": "5694cd20-c7ac-4e0f-84f3-c5d0ea8e51c9"
   },
   "outputs": [
    {
     "data": {
      "text/html": [
       "<div>\n",
       "<style scoped>\n",
       "    .dataframe tbody tr th:only-of-type {\n",
       "        vertical-align: middle;\n",
       "    }\n",
       "\n",
       "    .dataframe tbody tr th {\n",
       "        vertical-align: top;\n",
       "    }\n",
       "\n",
       "    .dataframe thead th {\n",
       "        text-align: right;\n",
       "    }\n",
       "</style>\n",
       "<table border=\"1\" class=\"dataframe\">\n",
       "  <thead>\n",
       "    <tr style=\"text-align: right;\">\n",
       "      <th></th>\n",
       "      <th>Quantity</th>\n",
       "      <th>UnitPrice</th>\n",
       "      <th>CustomerID</th>\n",
       "    </tr>\n",
       "  </thead>\n",
       "  <tbody>\n",
       "    <tr>\n",
       "      <th>count</th>\n",
       "      <td>541909.000000</td>\n",
       "      <td>541909.000000</td>\n",
       "      <td>406829.000000</td>\n",
       "    </tr>\n",
       "    <tr>\n",
       "      <th>mean</th>\n",
       "      <td>9.552250</td>\n",
       "      <td>4.611114</td>\n",
       "      <td>15287.690570</td>\n",
       "    </tr>\n",
       "    <tr>\n",
       "      <th>std</th>\n",
       "      <td>218.081158</td>\n",
       "      <td>96.759853</td>\n",
       "      <td>1713.600303</td>\n",
       "    </tr>\n",
       "    <tr>\n",
       "      <th>min</th>\n",
       "      <td>-80995.000000</td>\n",
       "      <td>-11062.060000</td>\n",
       "      <td>12346.000000</td>\n",
       "    </tr>\n",
       "    <tr>\n",
       "      <th>25%</th>\n",
       "      <td>1.000000</td>\n",
       "      <td>1.250000</td>\n",
       "      <td>13953.000000</td>\n",
       "    </tr>\n",
       "    <tr>\n",
       "      <th>50%</th>\n",
       "      <td>3.000000</td>\n",
       "      <td>2.080000</td>\n",
       "      <td>15152.000000</td>\n",
       "    </tr>\n",
       "    <tr>\n",
       "      <th>75%</th>\n",
       "      <td>10.000000</td>\n",
       "      <td>4.130000</td>\n",
       "      <td>16791.000000</td>\n",
       "    </tr>\n",
       "    <tr>\n",
       "      <th>max</th>\n",
       "      <td>80995.000000</td>\n",
       "      <td>38970.000000</td>\n",
       "      <td>18287.000000</td>\n",
       "    </tr>\n",
       "  </tbody>\n",
       "</table>\n",
       "</div>"
      ],
      "text/plain": [
       "            Quantity      UnitPrice     CustomerID\n",
       "count  541909.000000  541909.000000  406829.000000\n",
       "mean        9.552250       4.611114   15287.690570\n",
       "std       218.081158      96.759853    1713.600303\n",
       "min    -80995.000000  -11062.060000   12346.000000\n",
       "25%         1.000000       1.250000   13953.000000\n",
       "50%         3.000000       2.080000   15152.000000\n",
       "75%        10.000000       4.130000   16791.000000\n",
       "max     80995.000000   38970.000000   18287.000000"
      ]
     },
     "execution_count": 320,
     "metadata": {},
     "output_type": "execute_result"
    }
   ],
   "source": [
    "df.describe()"
   ]
  },
  {
   "cell_type": "markdown",
   "metadata": {
    "id": "iaujRHo7HYWb"
   },
   "source": [
    "# Step 2: Data Cleansing"
   ]
  },
  {
   "cell_type": "markdown",
   "metadata": {
    "id": "2bMW1z1LHYWc"
   },
   "source": [
    "## Null Handling"
   ]
  },
  {
   "cell_type": "markdown",
   "metadata": {
    "id": "x2TLfcYEHYWd"
   },
   "source": [
    "#### Per the output above, we mainly notice nulls in Description and CustomerID. Description data will not be used in our analysis so we focus our efforts in seeing if we can impute CustomerID using InvoiceNo. If an InvoiceNo is tied to a CustomerID, use that CustomerID for rows associated with that InvoiceNo but have no Customer ID."
   ]
  },
  {
   "cell_type": "code",
   "execution_count": null,
   "metadata": {
    "id": "fUvWNfwFHYWe"
   },
   "outputs": [],
   "source": [
    "# Do NOT run this loop !!! (takes a long time)\n",
    "# Was made just to prove there are no Invoices that are missing a customer ID \n",
    "# and therefore we cannot impute CustomerID\n",
    "for invoice in df.InvoiceNo.unique():\n",
    "    customer = df[df['InvoiceNo'] == invoice].CustomerID.unique()\n",
    "    if len(customer) > 1:\n",
    "        print(invoice)"
   ]
  },
  {
   "cell_type": "code",
   "execution_count": null,
   "metadata": {
    "id": "LBkvY1GPHYWe"
   },
   "outputs": [],
   "source": [
    "# Since we do not have enough information to impute, we decide to drop rows that have no customerID\n",
    "df = df.dropna(subset = 'CustomerID')"
   ]
  },
  {
   "cell_type": "markdown",
   "metadata": {
    "id": "pow07wSt6j0m"
   },
   "source": [
    "## Outlier Analysis"
   ]
  },
  {
   "cell_type": "code",
   "execution_count": null,
   "metadata": {
    "id": "CstvygXOHYWf",
    "outputId": "421dd1f9-be2a-4d17-99ac-281aed752624"
   },
   "outputs": [
    {
     "data": {
      "text/html": [
       "<div>\n",
       "<style scoped>\n",
       "    .dataframe tbody tr th:only-of-type {\n",
       "        vertical-align: middle;\n",
       "    }\n",
       "\n",
       "    .dataframe tbody tr th {\n",
       "        vertical-align: top;\n",
       "    }\n",
       "\n",
       "    .dataframe thead th {\n",
       "        text-align: right;\n",
       "    }\n",
       "</style>\n",
       "<table border=\"1\" class=\"dataframe\">\n",
       "  <thead>\n",
       "    <tr style=\"text-align: right;\">\n",
       "      <th></th>\n",
       "      <th>InvoiceNo</th>\n",
       "      <th>StockCode</th>\n",
       "      <th>Description</th>\n",
       "      <th>Quantity</th>\n",
       "      <th>InvoiceDate</th>\n",
       "      <th>UnitPrice</th>\n",
       "      <th>CustomerID</th>\n",
       "      <th>Country</th>\n",
       "    </tr>\n",
       "  </thead>\n",
       "  <tbody>\n",
       "  </tbody>\n",
       "</table>\n",
       "</div>"
      ],
      "text/plain": [
       "Empty DataFrame\n",
       "Columns: [InvoiceNo, StockCode, Description, Quantity, InvoiceDate, UnitPrice, CustomerID, Country]\n",
       "Index: []"
      ]
     },
     "execution_count": 323,
     "metadata": {},
     "output_type": "execute_result"
    }
   ],
   "source": [
    "# Yay! no 0 quanities\n",
    "df[df['Quantity'] == 0]"
   ]
  },
  {
   "cell_type": "code",
   "execution_count": null,
   "metadata": {
    "id": "P2VkPw6VHYWg",
    "outputId": "0d167572-761a-40e7-8215-2e76a5c95915"
   },
   "outputs": [
    {
     "name": "stdout",
     "output_type": "stream",
     "text": [
      "transactions dropped: 3072\n"
     ]
    }
   ],
   "source": [
    "# remove matchable returns from the dataset (negative quantities)\n",
    "## We match transactions with negative quantities to transactions with the same StockCode, UnitPrice, and CustomerID. \n",
    "## We drop transactions that matched with each other from the main dataset. Since this will mess with the Monetary section of the model\n",
    "## if multiple matches are returned, we pick the first one to be dropped.\n",
    "\n",
    "df_negative = df.loc[df['Quantity'] < 0]\n",
    "dropped_transactions = 0\n",
    "for index, row in df_negative.iterrows():\n",
    "    drop_options = df[(df['StockCode']==row['StockCode'])&(df['UnitPrice']==row['UnitPrice'])&(df['Quantity']+row['Quantity']==0)\n",
    "            &(df['CustomerID']==row['CustomerID'])]\n",
    "    if len(drop_options) > 0:\n",
    "        df.drop(index, inplace = True, axis = 0)\n",
    "        df.drop(drop_options.index[0], inplace = True, axis = 0)\n",
    "        dropped_transactions = dropped_transactions + 1\n",
    "            \n",
    "print('transactions dropped:', dropped_transactions)        "
   ]
  },
  {
   "cell_type": "code",
   "execution_count": null,
   "metadata": {
    "id": "GevEXywkHYWh"
   },
   "outputs": [],
   "source": [
    "# 2 situations with unit price that could affect our analysis (transactions with Manual in the Description and 0s)\n",
    "# Fill 0 Unit Price with mode of its associated StockCode\n",
    "df[df['UnitPrice'] == 0]\n",
    "for code in df.StockCode.unique():\n",
    "    df.UnitPrice.replace({0:statistics.mode(df[df['StockCode'] == code].UnitPrice)}, inplace = True)\n",
    "    \n",
    "#Transactions with 'Manual' in the Description seem to be fixing errouneous transaction entries so we keep it."
   ]
  },
  {
   "cell_type": "code",
   "execution_count": null,
   "metadata": {
    "id": "Ovv47RUCHYWh"
   },
   "outputs": [],
   "source": [
    "# quantity outliers per customer (is a customer a retailer?)\n",
    "df_CustIDOut = LocalizedOutlier('Quantity', 'CustomerID', df)\n",
    "# didn't find much with this"
   ]
  },
  {
   "cell_type": "code",
   "execution_count": null,
   "metadata": {
    "id": "m9r1pQXyHYWh"
   },
   "outputs": [],
   "source": [
    "#Main outliers in UnitPrice are mainly associated with the 'Manual' description so we keep them\n",
    "df['UPOut'] = IQROutlier(df.UnitPrice)"
   ]
  },
  {
   "cell_type": "markdown",
   "metadata": {
    "id": "0zCkfFiz6sEY"
   },
   "source": [
    "# Step 3: Data Preparation"
   ]
  },
  {
   "cell_type": "code",
   "execution_count": null,
   "metadata": {
    "id": "ggjSBmym6v1f"
   },
   "outputs": [],
   "source": [
    "df.CustomerID = df.CustomerID.astype(int)\n",
    "df_clean_copy = df.copy()"
   ]
  },
  {
   "cell_type": "markdown",
   "metadata": {
    "id": "rXLocQvuP2uZ"
   },
   "source": [
    "## Feature Creation"
   ]
  },
  {
   "cell_type": "markdown",
   "metadata": {
    "id": "bXuQ78HIHYWj"
   },
   "source": [
    "### Recency"
   ]
  },
  {
   "cell_type": "code",
   "execution_count": null,
   "metadata": {
    "id": "L3PRbHGjHYWj"
   },
   "outputs": [],
   "source": [
    "df['InvoiceDate'] = pd.to_datetime(df['InvoiceDate']).apply(lambda x: x.date())\n",
    "\n",
    "#Maximum and Minimum Invoice Date Per customer\n",
    "df_cust_recency = pd.merge(df.groupby('CustomerID')['InvoiceDate'].min().reset_index(), \n",
    "                      df.groupby('CustomerID')['InvoiceDate'].max().reset_index(), \n",
    "                      left_on = 'CustomerID', right_on = 'CustomerID', suffixes=('_min', '_max'))\n",
    "\n",
    "df_cust_recency['InvoiceDate_max'] = pd.to_datetime(df_cust_recency['InvoiceDate_max'])\n",
    "df_cust_recency['InvoiceDate_min'] = pd.to_datetime(df_cust_recency['InvoiceDate_min'])\n",
    "\n",
    "#Days Since Last Purchase (compared to last day of 2011)\n",
    "df_cust_recency['DaysSinceLastPurchase'] = datetime(2011, 12, 31) - df_cust_recency['InvoiceDate_max']\n",
    "\n",
    "#Customer Duration\n",
    "df_cust_recency['CustomerDuration'] = df_cust_recency['InvoiceDate_max'] - df_cust_recency['InvoiceDate_min']\n",
    "\n",
    "\n",
    "df_cust_recency['DaysSinceLastPurchase'] = df_cust_recency['DaysSinceLastPurchase'].apply(lambda x: int(x.days))\n",
    "df_cust_recency['CustomerDuration'] = df_cust_recency['CustomerDuration'].apply(lambda x: int(x.days))"
   ]
  },
  {
   "cell_type": "markdown",
   "metadata": {
    "id": "izzaqmLkHYWj"
   },
   "source": [
    "### Frequency"
   ]
  },
  {
   "cell_type": "code",
   "execution_count": null,
   "metadata": {
    "id": "Mf2yFBydHYWj",
    "outputId": "8e4699b0-d3bf-4a7e-d412-27f40df0f7c8"
   },
   "outputs": [
    {
     "name": "stdout",
     "output_type": "stream",
     "text": [
      "4361\n"
     ]
    }
   ],
   "source": [
    "## Average how many times a month they buy\n",
    "\n",
    "df_cust_freq = df.groupby(['CustomerID','InvoiceNo'])['InvoiceDate'].max().reset_index()\n",
    "df_cust_freq['Month'] = df_cust_freq['InvoiceDate'].apply(lambda x: int(x.month))\n",
    "df_cust_freq['Year'] = df_cust_freq['InvoiceDate'].apply(lambda x: int(x.year))\n",
    "df_cust_month_freq_count = df_cust_freq.groupby(['CustomerID', 'Month', 'Year'])['InvoiceNo'].count().reset_index()\n",
    "df_cust_month_freq_sum = df_cust_month_freq_count.groupby(['CustomerID', 'Month'])['InvoiceNo'].mean().reset_index()\n",
    "df_freq = df_cust_month_freq_sum.groupby('CustomerID')['InvoiceNo'].mean().reset_index()\n",
    "\n",
    "\n",
    "## Average days betwen purchases and how many times a week do they buy\n",
    "\n",
    "avgdatesbn = []\n",
    "weeks = []\n",
    "for customer in df.CustomerID.unique():\n",
    "    dates = pd.to_datetime(df_cust_freq[df_cust_freq['CustomerID'] == customer].InvoiceDate)\n",
    "    dates = list(set(dates))\n",
    "    dates.sort()\n",
    "    deltas = []\n",
    "    weekcount = []\n",
    "    wc = 0\n",
    "    for date in range(0,len(dates)):\n",
    "        \n",
    "        if not dates[date] == dates[-1]:\n",
    "            tdelta = dates[date+1] - dates[date]\n",
    "            tdelta = int(tdelta.days)\n",
    "            deltas.append(tdelta)\n",
    "            if not tdelta <= 7:\n",
    "                weekcount.append(1)\n",
    "            else:\n",
    "                wc = wc + 1\n",
    "        else:\n",
    "            tdelta = 0\n",
    "            deltas.append(tdelta)\n",
    "            weekcount.append(1)\n",
    "    if wc != 0:\n",
    "        weekcount.append(wc)\n",
    "    avgdatesbn.append(statistics.mean(deltas))\n",
    "    weeks.append(statistics.mean(weekcount))\n",
    "\n",
    "df_freq['AverageDaysBNPurchases'] = avgdatesbn\n",
    "df_freq['AveragePurchasesPerWeek'] = weeks"
   ]
  },
  {
   "cell_type": "markdown",
   "metadata": {
    "id": "aF9s0GI1HYWk"
   },
   "source": [
    "### Monetary"
   ]
  },
  {
   "cell_type": "code",
   "execution_count": null,
   "metadata": {
    "id": "3bDF4wlRHYWk"
   },
   "outputs": [],
   "source": [
    "#Transaction Cost\n",
    "df_clean_copy['TransactionCost'] = df_clean_copy['Quantity'] * df_clean_copy['UnitPrice']\n",
    "df_transactions = pd.DataFrame()\n",
    "df_transactions['InvoiceTotal'] = df_clean_copy.groupby(['InvoiceNo','CustomerID'])['TransactionCost'].sum()\n",
    "\n",
    "#Average Spend Per Invoice By Customer\n",
    "df_features = pd.DataFrame()\n",
    "df_features['AvgSpendPerInvoiceByCustomer'] = df_transactions.groupby('CustomerID')['InvoiceTotal'].mean()\n",
    "\n",
    "#Number of Invoices Per Customer\n",
    "df_features['NumberInvoiceByCustomer'] = df_clean_copy.groupby('CustomerID')['InvoiceNo'].count()\n",
    "\n",
    "#Average Quantity Per Invoice\n",
    "df_features['AverageQuantityByCustomer'] = pd.merge(df_clean_copy.groupby('InvoiceNo')['Quantity'].mean().reset_index(), \n",
    "                                                    df_clean_copy[['InvoiceNo', \n",
    "                                                                   'CustomerID']]).groupby('CustomerID')['Quantity'].mean()"
   ]
  },
  {
   "cell_type": "code",
   "execution_count": null,
   "metadata": {
    "id": "NMcOvE51WHB-"
   },
   "outputs": [],
   "source": [
    "#combine datasets\n",
    "df_features.reset_index()\n",
    "df_features = pd.merge(df_features, df_cust_recency, left_on='CustomerID', right_on='CustomerID')\n",
    "df_features = pd.merge(df_features, df_freq, left_on = 'CustomerID', right_on = 'CustomerID')\n",
    "df_features.drop(columns = ['InvoiceDate_min', 'InvoiceDate_max'], axis = 1, inplace = True)"
   ]
  },
  {
   "cell_type": "code",
   "execution_count": null,
   "metadata": {
    "id": "bu9Z4IT0HYWl",
    "outputId": "72d5a866-9e79-43c9-f6e2-62d88a836dbe"
   },
   "outputs": [
    {
     "data": {
      "text/html": [
       "<div>\n",
       "<style scoped>\n",
       "    .dataframe tbody tr th:only-of-type {\n",
       "        vertical-align: middle;\n",
       "    }\n",
       "\n",
       "    .dataframe tbody tr th {\n",
       "        vertical-align: top;\n",
       "    }\n",
       "\n",
       "    .dataframe thead th {\n",
       "        text-align: right;\n",
       "    }\n",
       "</style>\n",
       "<table border=\"1\" class=\"dataframe\">\n",
       "  <thead>\n",
       "    <tr style=\"text-align: right;\">\n",
       "      <th></th>\n",
       "      <th>CustomerID</th>\n",
       "      <th>AvgSpendPerInvoiceByCustomer</th>\n",
       "      <th>NumberInvoiceByCustomer</th>\n",
       "      <th>AverageQuantityByCustomer</th>\n",
       "      <th>DaysSinceLastPurchase</th>\n",
       "      <th>CustomerDuration</th>\n",
       "      <th>InvoiceNo</th>\n",
       "      <th>AverageDaysBNPurchases</th>\n",
       "      <th>AveragePurchasesPerWeek</th>\n",
       "    </tr>\n",
       "  </thead>\n",
       "  <tbody>\n",
       "    <tr>\n",
       "      <th>0</th>\n",
       "      <td>12347</td>\n",
       "      <td>615.714286</td>\n",
       "      <td>182</td>\n",
       "      <td>13.505495</td>\n",
       "      <td>61</td>\n",
       "      <td>476</td>\n",
       "      <td>1.10</td>\n",
       "      <td>209.333333</td>\n",
       "      <td>1.000000</td>\n",
       "    </tr>\n",
       "    <tr>\n",
       "      <th>1</th>\n",
       "      <td>12348</td>\n",
       "      <td>449.310000</td>\n",
       "      <td>31</td>\n",
       "      <td>75.516129</td>\n",
       "      <td>97</td>\n",
       "      <td>283</td>\n",
       "      <td>1.00</td>\n",
       "      <td>46.428571</td>\n",
       "      <td>1.555556</td>\n",
       "    </tr>\n",
       "    <tr>\n",
       "      <th>2</th>\n",
       "      <td>12349</td>\n",
       "      <td>1757.550000</td>\n",
       "      <td>73</td>\n",
       "      <td>8.643836</td>\n",
       "      <td>40</td>\n",
       "      <td>0</td>\n",
       "      <td>1.00</td>\n",
       "      <td>43.562500</td>\n",
       "      <td>1.333333</td>\n",
       "    </tr>\n",
       "    <tr>\n",
       "      <th>3</th>\n",
       "      <td>12350</td>\n",
       "      <td>334.400000</td>\n",
       "      <td>17</td>\n",
       "      <td>11.588235</td>\n",
       "      <td>332</td>\n",
       "      <td>0</td>\n",
       "      <td>1.00</td>\n",
       "      <td>134.500000</td>\n",
       "      <td>1.000000</td>\n",
       "    </tr>\n",
       "    <tr>\n",
       "      <th>4</th>\n",
       "      <td>12352</td>\n",
       "      <td>220.772857</td>\n",
       "      <td>75</td>\n",
       "      <td>6.266667</td>\n",
       "      <td>94</td>\n",
       "      <td>268</td>\n",
       "      <td>1.75</td>\n",
       "      <td>104.500000</td>\n",
       "      <td>1.000000</td>\n",
       "    </tr>\n",
       "    <tr>\n",
       "      <th>...</th>\n",
       "      <td>...</td>\n",
       "      <td>...</td>\n",
       "      <td>...</td>\n",
       "      <td>...</td>\n",
       "      <td>...</td>\n",
       "      <td>...</td>\n",
       "      <td>...</td>\n",
       "      <td>...</td>\n",
       "      <td>...</td>\n",
       "    </tr>\n",
       "    <tr>\n",
       "      <th>4356</th>\n",
       "      <td>18280</td>\n",
       "      <td>180.600000</td>\n",
       "      <td>10</td>\n",
       "      <td>4.500000</td>\n",
       "      <td>181</td>\n",
       "      <td>0</td>\n",
       "      <td>1.00</td>\n",
       "      <td>0.000000</td>\n",
       "      <td>1.000000</td>\n",
       "    </tr>\n",
       "    <tr>\n",
       "      <th>4357</th>\n",
       "      <td>18281</td>\n",
       "      <td>80.820000</td>\n",
       "      <td>7</td>\n",
       "      <td>7.714286</td>\n",
       "      <td>25</td>\n",
       "      <td>0</td>\n",
       "      <td>1.00</td>\n",
       "      <td>0.000000</td>\n",
       "      <td>1.000000</td>\n",
       "    </tr>\n",
       "    <tr>\n",
       "      <th>4358</th>\n",
       "      <td>18282</td>\n",
       "      <td>58.866667</td>\n",
       "      <td>13</td>\n",
       "      <td>7.538462</td>\n",
       "      <td>114</td>\n",
       "      <td>208</td>\n",
       "      <td>1.00</td>\n",
       "      <td>0.000000</td>\n",
       "      <td>1.000000</td>\n",
       "    </tr>\n",
       "    <tr>\n",
       "      <th>4359</th>\n",
       "      <td>18283</td>\n",
       "      <td>130.930000</td>\n",
       "      <td>756</td>\n",
       "      <td>1.847884</td>\n",
       "      <td>31</td>\n",
       "      <td>311</td>\n",
       "      <td>2.00</td>\n",
       "      <td>0.000000</td>\n",
       "      <td>1.000000</td>\n",
       "    </tr>\n",
       "    <tr>\n",
       "      <th>4360</th>\n",
       "      <td>18287</td>\n",
       "      <td>612.426667</td>\n",
       "      <td>70</td>\n",
       "      <td>22.657143</td>\n",
       "      <td>21</td>\n",
       "      <td>202</td>\n",
       "      <td>1.00</td>\n",
       "      <td>0.000000</td>\n",
       "      <td>1.000000</td>\n",
       "    </tr>\n",
       "  </tbody>\n",
       "</table>\n",
       "<p>4361 rows × 9 columns</p>\n",
       "</div>"
      ],
      "text/plain": [
       "      CustomerID  AvgSpendPerInvoiceByCustomer  NumberInvoiceByCustomer  \\\n",
       "0          12347                    615.714286                      182   \n",
       "1          12348                    449.310000                       31   \n",
       "2          12349                   1757.550000                       73   \n",
       "3          12350                    334.400000                       17   \n",
       "4          12352                    220.772857                       75   \n",
       "...          ...                           ...                      ...   \n",
       "4356       18280                    180.600000                       10   \n",
       "4357       18281                     80.820000                        7   \n",
       "4358       18282                     58.866667                       13   \n",
       "4359       18283                    130.930000                      756   \n",
       "4360       18287                    612.426667                       70   \n",
       "\n",
       "      AverageQuantityByCustomer  DaysSinceLastPurchase  CustomerDuration  \\\n",
       "0                     13.505495                     61               476   \n",
       "1                     75.516129                     97               283   \n",
       "2                      8.643836                     40                 0   \n",
       "3                     11.588235                    332                 0   \n",
       "4                      6.266667                     94               268   \n",
       "...                         ...                    ...               ...   \n",
       "4356                   4.500000                    181                 0   \n",
       "4357                   7.714286                     25                 0   \n",
       "4358                   7.538462                    114               208   \n",
       "4359                   1.847884                     31               311   \n",
       "4360                  22.657143                     21               202   \n",
       "\n",
       "      InvoiceNo  AverageDaysBNPurchases  AveragePurchasesPerWeek  \n",
       "0          1.10              209.333333                 1.000000  \n",
       "1          1.00               46.428571                 1.555556  \n",
       "2          1.00               43.562500                 1.333333  \n",
       "3          1.00              134.500000                 1.000000  \n",
       "4          1.75              104.500000                 1.000000  \n",
       "...         ...                     ...                      ...  \n",
       "4356       1.00                0.000000                 1.000000  \n",
       "4357       1.00                0.000000                 1.000000  \n",
       "4358       1.00                0.000000                 1.000000  \n",
       "4359       2.00                0.000000                 1.000000  \n",
       "4360       1.00                0.000000                 1.000000  \n",
       "\n",
       "[4361 rows x 9 columns]"
      ]
     },
     "execution_count": 536,
     "metadata": {},
     "output_type": "execute_result"
    }
   ],
   "source": [
    "df_features"
   ]
  },
  {
   "cell_type": "code",
   "execution_count": null,
   "metadata": {
    "id": "RZmQgVi4HYWl"
   },
   "outputs": [],
   "source": [
    "# We are only clustering using the RFM Model: Days since last purchase, Average spend per ticket, \n",
    "# and how many times a month/week they buy.\n",
    "clustercols = ['CustomerID', \n",
    "               'DaysSinceLastPurchase', \n",
    "               'AvgSpendPerInvoiceByCustomer',\n",
    "               'InvoiceNo',\n",
    "              'AveragePurchasesPerWeek']\n",
    "\n",
    "df_cluster = df_features[clustercols].rename(columns = {'InvoiceNo':'AverageNumTicketsPerMonth'})\n",
    "\n",
    "#Outlier purchase creating its own cluster\n",
    "df_cluster.drop(df_cluster[df_cluster['CustomerID'] == 13256].index, inplace = True)"
   ]
  },
  {
   "cell_type": "markdown",
   "metadata": {
    "id": "1bM4YldIP-uB"
   },
   "source": [
    "# Step 4: Assess Number of Clusters"
   ]
  },
  {
   "cell_type": "code",
   "execution_count": null,
   "metadata": {
    "id": "h3tPHj2fHYWm",
    "outputId": "c26df387-57bf-4194-e5ff-81c920ef26d4"
   },
   "outputs": [
    {
     "data": {
      "image/png": "[encoded data removed]",
      "text/plain": [
       "<Figure size 1600x800 with 1 Axes>"
      ]
     },
     "metadata": {},
     "output_type": "display_data"
    }
   ],
   "source": [
    "#test kmeans model across varying ks\n",
    "distortions = []\n",
    "K = range(1,10)\n",
    "for k in K:\n",
    "    kmeanModel = KMeans(n_clusters=k)\n",
    "    kmeanModel.fit(df_cluster)\n",
    "    distortions.append(kmeanModel.inertia_)\n",
    "    \n",
    "plt.figure(figsize=(16,8))\n",
    "plt.plot(K, distortions, 'bx-')\n",
    "plt.xlabel('k')\n",
    "plt.ylabel('Distortion')\n",
    "plt.title('The Elbow Method showing the optimal k')\n",
    "plt.show()"
   ]
  },
  {
   "cell_type": "markdown",
   "metadata": {
    "id": "jsIl2kf6HYWm"
   },
   "source": [
    "# Step 5: Build clusters"
   ]
  },
  {
   "cell_type": "code",
   "execution_count": null,
   "metadata": {
    "id": "3vsyU5rumKvN"
   },
   "outputs": [],
   "source": [
    "kmeanModel = KMeans(n_clusters=3)\n",
    "kmeanModel.fit(df_cluster)\n",
    "df_cluster['pred_cluster'] = kmeanModel.predict(df_cluster)"
   ]
  },
  {
   "cell_type": "code",
   "execution_count": null,
   "metadata": {
    "colab": {
     "base_uri": "https://localhost:8080/"
    },
    "id": "Nvjrzie2nDMP",
    "outputId": "fe3c8bc3-3503-4e09-a1bd-4c6405886f08"
   },
   "outputs": [
    {
     "data": {
      "text/plain": [
       "2    1467\n",
       "0    1447\n",
       "1    1446\n",
       "Name: pred_cluster, dtype: int64"
      ]
     },
     "execution_count": 578,
     "metadata": {},
     "output_type": "execute_result"
    }
   ],
   "source": [
    "df_cluster['pred_cluster'].value_counts()"
   ]
  },
  {
   "cell_type": "markdown",
   "metadata": {
    "id": "S215Nzu6HYWn"
   },
   "source": [
    "## Step 6: Profiling of each cluster"
   ]
  },
  {
   "cell_type": "markdown",
   "metadata": {
    "id": "vMS2c_KJHYWn"
   },
   "source": [
    "### Cluster 1"
   ]
  },
  {
   "cell_type": "code",
   "execution_count": null,
   "metadata": {
    "id": "BuwWl3xMHYWn",
    "outputId": "d0b6db90-9916-4cc1-b2de-e4d2b4b5843a"
   },
   "outputs": [
    {
     "data": {
      "text/html": [
       "<div>\n",
       "<style scoped>\n",
       "    .dataframe tbody tr th:only-of-type {\n",
       "        vertical-align: middle;\n",
       "    }\n",
       "\n",
       "    .dataframe tbody tr th {\n",
       "        vertical-align: top;\n",
       "    }\n",
       "\n",
       "    .dataframe thead th {\n",
       "        text-align: right;\n",
       "    }\n",
       "</style>\n",
       "<table border=\"1\" class=\"dataframe\">\n",
       "  <thead>\n",
       "    <tr style=\"text-align: right;\">\n",
       "      <th></th>\n",
       "      <th>CustomerID</th>\n",
       "      <th>DaysSinceLastPurchase</th>\n",
       "      <th>AvgSpendPerInvoiceByCustomer</th>\n",
       "      <th>AverageNumTicketsPerMonth</th>\n",
       "      <th>AveragePurchasesPerWeek</th>\n",
       "      <th>pred_cluster</th>\n",
       "      <th>NumberInvoiceByCustomer</th>\n",
       "      <th>AverageQuantityByCustomer</th>\n",
       "      <th>CustomerDuration</th>\n",
       "      <th>InvoiceNo</th>\n",
       "      <th>AverageDaysBNPurchases</th>\n",
       "    </tr>\n",
       "  </thead>\n",
       "  <tbody>\n",
       "    <tr>\n",
       "      <th>count</th>\n",
       "      <td>1447.000000</td>\n",
       "      <td>1447.000000</td>\n",
       "      <td>1447.000000</td>\n",
       "      <td>1447.000000</td>\n",
       "      <td>1447.000000</td>\n",
       "      <td>1447.0</td>\n",
       "      <td>1447.000000</td>\n",
       "      <td>1447.000000</td>\n",
       "      <td>1447.000000</td>\n",
       "      <td>1447.000000</td>\n",
       "      <td>1447.000000</td>\n",
       "    </tr>\n",
       "    <tr>\n",
       "      <th>mean</th>\n",
       "      <td>13309.731859</td>\n",
       "      <td>120.478922</td>\n",
       "      <td>376.390293</td>\n",
       "      <td>1.273595</td>\n",
       "      <td>1.095297</td>\n",
       "      <td>0.0</td>\n",
       "      <td>90.446441</td>\n",
       "      <td>20.469537</td>\n",
       "      <td>169.988252</td>\n",
       "      <td>1.273595</td>\n",
       "      <td>60.833247</td>\n",
       "    </tr>\n",
       "    <tr>\n",
       "      <th>std</th>\n",
       "      <td>573.177002</td>\n",
       "      <td>111.428388</td>\n",
       "      <td>442.037627</td>\n",
       "      <td>0.598478</td>\n",
       "      <td>0.512425</td>\n",
       "      <td>0.0</td>\n",
       "      <td>224.547810</td>\n",
       "      <td>121.930445</td>\n",
       "      <td>174.063944</td>\n",
       "      <td>0.598478</td>\n",
       "      <td>57.118087</td>\n",
       "    </tr>\n",
       "    <tr>\n",
       "      <th>min</th>\n",
       "      <td>12347.000000</td>\n",
       "      <td>21.000000</td>\n",
       "      <td>-1192.200000</td>\n",
       "      <td>1.000000</td>\n",
       "      <td>1.000000</td>\n",
       "      <td>0.0</td>\n",
       "      <td>1.000000</td>\n",
       "      <td>-48.800000</td>\n",
       "      <td>0.000000</td>\n",
       "      <td>1.000000</td>\n",
       "      <td>0.000000</td>\n",
       "    </tr>\n",
       "    <tr>\n",
       "      <th>25%</th>\n",
       "      <td>12800.000000</td>\n",
       "      <td>41.000000</td>\n",
       "      <td>169.571923</td>\n",
       "      <td>1.000000</td>\n",
       "      <td>1.000000</td>\n",
       "      <td>0.0</td>\n",
       "      <td>18.000000</td>\n",
       "      <td>7.301599</td>\n",
       "      <td>0.000000</td>\n",
       "      <td>1.000000</td>\n",
       "      <td>23.844444</td>\n",
       "    </tr>\n",
       "    <tr>\n",
       "      <th>50%</th>\n",
       "      <td>13304.000000</td>\n",
       "      <td>78.000000</td>\n",
       "      <td>276.698000</td>\n",
       "      <td>1.000000</td>\n",
       "      <td>1.000000</td>\n",
       "      <td>0.0</td>\n",
       "      <td>41.000000</td>\n",
       "      <td>10.460000</td>\n",
       "      <td>142.000000</td>\n",
       "      <td>1.000000</td>\n",
       "      <td>47.000000</td>\n",
       "    </tr>\n",
       "    <tr>\n",
       "      <th>75%</th>\n",
       "      <td>13811.500000</td>\n",
       "      <td>173.000000</td>\n",
       "      <td>447.839375</td>\n",
       "      <td>1.375000</td>\n",
       "      <td>1.000000</td>\n",
       "      <td>0.0</td>\n",
       "      <td>98.500000</td>\n",
       "      <td>14.872416</td>\n",
       "      <td>282.000000</td>\n",
       "      <td>1.375000</td>\n",
       "      <td>81.414286</td>\n",
       "    </tr>\n",
       "    <tr>\n",
       "      <th>max</th>\n",
       "      <td>14307.000000</td>\n",
       "      <td>718.000000</td>\n",
       "      <td>6207.670000</td>\n",
       "      <td>11.416667</td>\n",
       "      <td>14.000000</td>\n",
       "      <td>0.0</td>\n",
       "      <td>5128.000000</td>\n",
       "      <td>4300.000000</td>\n",
       "      <td>697.000000</td>\n",
       "      <td>11.416667</td>\n",
       "      <td>337.500000</td>\n",
       "    </tr>\n",
       "  </tbody>\n",
       "</table>\n",
       "</div>"
      ],
      "text/plain": [
       "         CustomerID  DaysSinceLastPurchase  AvgSpendPerInvoiceByCustomer  \\\n",
       "count   1447.000000            1447.000000                   1447.000000   \n",
       "mean   13309.731859             120.478922                    376.390293   \n",
       "std      573.177002             111.428388                    442.037627   \n",
       "min    12347.000000              21.000000                  -1192.200000   \n",
       "25%    12800.000000              41.000000                    169.571923   \n",
       "50%    13304.000000              78.000000                    276.698000   \n",
       "75%    13811.500000             173.000000                    447.839375   \n",
       "max    14307.000000             718.000000                   6207.670000   \n",
       "\n",
       "       AverageNumTicketsPerMonth  AveragePurchasesPerWeek  pred_cluster  \\\n",
       "count                1447.000000              1447.000000        1447.0   \n",
       "mean                    1.273595                 1.095297           0.0   \n",
       "std                     0.598478                 0.512425           0.0   \n",
       "min                     1.000000                 1.000000           0.0   \n",
       "25%                     1.000000                 1.000000           0.0   \n",
       "50%                     1.000000                 1.000000           0.0   \n",
       "75%                     1.375000                 1.000000           0.0   \n",
       "max                    11.416667                14.000000           0.0   \n",
       "\n",
       "       NumberInvoiceByCustomer  AverageQuantityByCustomer  CustomerDuration  \\\n",
       "count              1447.000000                1447.000000       1447.000000   \n",
       "mean                 90.446441                  20.469537        169.988252   \n",
       "std                 224.547810                 121.930445        174.063944   \n",
       "min                   1.000000                 -48.800000          0.000000   \n",
       "25%                  18.000000                   7.301599          0.000000   \n",
       "50%                  41.000000                  10.460000        142.000000   \n",
       "75%                  98.500000                  14.872416        282.000000   \n",
       "max                5128.000000                4300.000000        697.000000   \n",
       "\n",
       "         InvoiceNo  AverageDaysBNPurchases  \n",
       "count  1447.000000             1447.000000  \n",
       "mean      1.273595               60.833247  \n",
       "std       0.598478               57.118087  \n",
       "min       1.000000                0.000000  \n",
       "25%       1.000000               23.844444  \n",
       "50%       1.000000               47.000000  \n",
       "75%       1.375000               81.414286  \n",
       "max      11.416667              337.500000  "
      ]
     },
     "execution_count": 579,
     "metadata": {},
     "output_type": "execute_result"
    }
   ],
   "source": [
    "pd.merge(df_cluster[df_cluster['pred_cluster'] == 0], df_features).describe()"
   ]
  },
  {
   "cell_type": "markdown",
   "metadata": {
    "id": "Fj351cygHYWo"
   },
   "source": [
    "### Cluster 2"
   ]
  },
  {
   "cell_type": "code",
   "execution_count": null,
   "metadata": {
    "id": "szPwyPHYHYWo",
    "outputId": "fd2005c4-d1e7-4c26-84e8-53cfec22f27e"
   },
   "outputs": [
    {
     "data": {
      "text/html": [
       "<div>\n",
       "<style scoped>\n",
       "    .dataframe tbody tr th:only-of-type {\n",
       "        vertical-align: middle;\n",
       "    }\n",
       "\n",
       "    .dataframe tbody tr th {\n",
       "        vertical-align: top;\n",
       "    }\n",
       "\n",
       "    .dataframe thead th {\n",
       "        text-align: right;\n",
       "    }\n",
       "</style>\n",
       "<table border=\"1\" class=\"dataframe\">\n",
       "  <thead>\n",
       "    <tr style=\"text-align: right;\">\n",
       "      <th></th>\n",
       "      <th>CustomerID</th>\n",
       "      <th>DaysSinceLastPurchase</th>\n",
       "      <th>AvgSpendPerInvoiceByCustomer</th>\n",
       "      <th>AverageNumTicketsPerMonth</th>\n",
       "      <th>AveragePurchasesPerWeek</th>\n",
       "      <th>pred_cluster</th>\n",
       "      <th>NumberInvoiceByCustomer</th>\n",
       "      <th>AverageQuantityByCustomer</th>\n",
       "      <th>CustomerDuration</th>\n",
       "      <th>InvoiceNo</th>\n",
       "      <th>AverageDaysBNPurchases</th>\n",
       "    </tr>\n",
       "  </thead>\n",
       "  <tbody>\n",
       "    <tr>\n",
       "      <th>count</th>\n",
       "      <td>1446.000000</td>\n",
       "      <td>1446.000000</td>\n",
       "      <td>1446.000000</td>\n",
       "      <td>1446.000000</td>\n",
       "      <td>1446.000000</td>\n",
       "      <td>1446.0</td>\n",
       "      <td>1446.000000</td>\n",
       "      <td>1446.000000</td>\n",
       "      <td>1446.000000</td>\n",
       "      <td>1446.000000</td>\n",
       "      <td>1446.000000</td>\n",
       "    </tr>\n",
       "    <tr>\n",
       "      <th>mean</th>\n",
       "      <td>17292.025588</td>\n",
       "      <td>127.071923</td>\n",
       "      <td>286.162160</td>\n",
       "      <td>1.290170</td>\n",
       "      <td>1.004883</td>\n",
       "      <td>1.0</td>\n",
       "      <td>91.209544</td>\n",
       "      <td>21.178373</td>\n",
       "      <td>169.192946</td>\n",
       "      <td>1.290170</td>\n",
       "      <td>20.637674</td>\n",
       "    </tr>\n",
       "    <tr>\n",
       "      <th>std</th>\n",
       "      <td>575.615184</td>\n",
       "      <td>120.225476</td>\n",
       "      <td>319.438582</td>\n",
       "      <td>0.617934</td>\n",
       "      <td>0.044142</td>\n",
       "      <td>0.0</td>\n",
       "      <td>237.476021</td>\n",
       "      <td>92.144339</td>\n",
       "      <td>179.833339</td>\n",
       "      <td>0.617934</td>\n",
       "      <td>33.318511</td>\n",
       "    </tr>\n",
       "    <tr>\n",
       "      <th>min</th>\n",
       "      <td>16302.000000</td>\n",
       "      <td>21.000000</td>\n",
       "      <td>-4287.630000</td>\n",
       "      <td>1.000000</td>\n",
       "      <td>1.000000</td>\n",
       "      <td>1.0</td>\n",
       "      <td>1.000000</td>\n",
       "      <td>-144.000000</td>\n",
       "      <td>0.000000</td>\n",
       "      <td>1.000000</td>\n",
       "      <td>0.000000</td>\n",
       "    </tr>\n",
       "    <tr>\n",
       "      <th>25%</th>\n",
       "      <td>16788.250000</td>\n",
       "      <td>41.000000</td>\n",
       "      <td>149.036250</td>\n",
       "      <td>1.000000</td>\n",
       "      <td>1.000000</td>\n",
       "      <td>1.0</td>\n",
       "      <td>16.000000</td>\n",
       "      <td>4.435220</td>\n",
       "      <td>0.000000</td>\n",
       "      <td>1.000000</td>\n",
       "      <td>0.000000</td>\n",
       "    </tr>\n",
       "    <tr>\n",
       "      <th>50%</th>\n",
       "      <td>17301.500000</td>\n",
       "      <td>81.000000</td>\n",
       "      <td>224.577500</td>\n",
       "      <td>1.000000</td>\n",
       "      <td>1.000000</td>\n",
       "      <td>1.0</td>\n",
       "      <td>40.000000</td>\n",
       "      <td>8.787108</td>\n",
       "      <td>132.000000</td>\n",
       "      <td>1.000000</td>\n",
       "      <td>0.000000</td>\n",
       "    </tr>\n",
       "    <tr>\n",
       "      <th>75%</th>\n",
       "      <td>17786.750000</td>\n",
       "      <td>181.000000</td>\n",
       "      <td>344.115833</td>\n",
       "      <td>1.437500</td>\n",
       "      <td>1.000000</td>\n",
       "      <td>1.0</td>\n",
       "      <td>101.000000</td>\n",
       "      <td>13.568571</td>\n",
       "      <td>282.500000</td>\n",
       "      <td>1.437500</td>\n",
       "      <td>32.000000</td>\n",
       "    </tr>\n",
       "    <tr>\n",
       "      <th>max</th>\n",
       "      <td>18287.000000</td>\n",
       "      <td>718.000000</td>\n",
       "      <td>4314.720000</td>\n",
       "      <td>11.666667</td>\n",
       "      <td>1.700000</td>\n",
       "      <td>1.0</td>\n",
       "      <td>7759.000000</td>\n",
       "      <td>2140.000000</td>\n",
       "      <td>697.000000</td>\n",
       "      <td>11.666667</td>\n",
       "      <td>161.000000</td>\n",
       "    </tr>\n",
       "  </tbody>\n",
       "</table>\n",
       "</div>"
      ],
      "text/plain": [
       "         CustomerID  DaysSinceLastPurchase  AvgSpendPerInvoiceByCustomer  \\\n",
       "count   1446.000000            1446.000000                   1446.000000   \n",
       "mean   17292.025588             127.071923                    286.162160   \n",
       "std      575.615184             120.225476                    319.438582   \n",
       "min    16302.000000              21.000000                  -4287.630000   \n",
       "25%    16788.250000              41.000000                    149.036250   \n",
       "50%    17301.500000              81.000000                    224.577500   \n",
       "75%    17786.750000             181.000000                    344.115833   \n",
       "max    18287.000000             718.000000                   4314.720000   \n",
       "\n",
       "       AverageNumTicketsPerMonth  AveragePurchasesPerWeek  pred_cluster  \\\n",
       "count                1446.000000              1446.000000        1446.0   \n",
       "mean                    1.290170                 1.004883           1.0   \n",
       "std                     0.617934                 0.044142           0.0   \n",
       "min                     1.000000                 1.000000           1.0   \n",
       "25%                     1.000000                 1.000000           1.0   \n",
       "50%                     1.000000                 1.000000           1.0   \n",
       "75%                     1.437500                 1.000000           1.0   \n",
       "max                    11.666667                 1.700000           1.0   \n",
       "\n",
       "       NumberInvoiceByCustomer  AverageQuantityByCustomer  CustomerDuration  \\\n",
       "count              1446.000000                1446.000000       1446.000000   \n",
       "mean                 91.209544                  21.178373        169.192946   \n",
       "std                 237.476021                  92.144339        179.833339   \n",
       "min                   1.000000                -144.000000          0.000000   \n",
       "25%                  16.000000                   4.435220          0.000000   \n",
       "50%                  40.000000                   8.787108        132.000000   \n",
       "75%                 101.000000                  13.568571        282.500000   \n",
       "max                7759.000000                2140.000000        697.000000   \n",
       "\n",
       "         InvoiceNo  AverageDaysBNPurchases  \n",
       "count  1446.000000             1446.000000  \n",
       "mean      1.290170               20.637674  \n",
       "std       0.617934               33.318511  \n",
       "min       1.000000                0.000000  \n",
       "25%       1.000000                0.000000  \n",
       "50%       1.000000                0.000000  \n",
       "75%       1.437500               32.000000  \n",
       "max      11.666667              161.000000  "
      ]
     },
     "execution_count": 580,
     "metadata": {},
     "output_type": "execute_result"
    }
   ],
   "source": [
    "pd.merge(df_cluster[df_cluster['pred_cluster'] == 1], df_features).describe()"
   ]
  },
  {
   "cell_type": "markdown",
   "metadata": {
    "id": "WTYJ1WFTHYWo"
   },
   "source": [
    "### Cluster 3"
   ]
  },
  {
   "cell_type": "code",
   "execution_count": null,
   "metadata": {
    "id": "fOJQjk7gHYWo",
    "outputId": "f3d440e4-5b71-4038-94a3-84ee1dc6cce1"
   },
   "outputs": [
    {
     "data": {
      "text/html": [
       "<div>\n",
       "<style scoped>\n",
       "    .dataframe tbody tr th:only-of-type {\n",
       "        vertical-align: middle;\n",
       "    }\n",
       "\n",
       "    .dataframe tbody tr th {\n",
       "        vertical-align: top;\n",
       "    }\n",
       "\n",
       "    .dataframe thead th {\n",
       "        text-align: right;\n",
       "    }\n",
       "</style>\n",
       "<table border=\"1\" class=\"dataframe\">\n",
       "  <thead>\n",
       "    <tr style=\"text-align: right;\">\n",
       "      <th></th>\n",
       "      <th>CustomerID</th>\n",
       "      <th>DaysSinceLastPurchase</th>\n",
       "      <th>AvgSpendPerInvoiceByCustomer</th>\n",
       "      <th>AverageNumTicketsPerMonth</th>\n",
       "      <th>AveragePurchasesPerWeek</th>\n",
       "      <th>pred_cluster</th>\n",
       "      <th>NumberInvoiceByCustomer</th>\n",
       "      <th>AverageQuantityByCustomer</th>\n",
       "      <th>CustomerDuration</th>\n",
       "      <th>InvoiceNo</th>\n",
       "      <th>AverageDaysBNPurchases</th>\n",
       "    </tr>\n",
       "  </thead>\n",
       "  <tbody>\n",
       "    <tr>\n",
       "      <th>count</th>\n",
       "      <td>1467.000000</td>\n",
       "      <td>1467.000000</td>\n",
       "      <td>1467.000000</td>\n",
       "      <td>1467.000000</td>\n",
       "      <td>1467.000000</td>\n",
       "      <td>1467.0</td>\n",
       "      <td>1467.000000</td>\n",
       "      <td>1467.000000</td>\n",
       "      <td>1467.000000</td>\n",
       "      <td>1467.000000</td>\n",
       "      <td>1467.000000</td>\n",
       "    </tr>\n",
       "    <tr>\n",
       "      <th>mean</th>\n",
       "      <td>15305.810498</td>\n",
       "      <td>121.764145</td>\n",
       "      <td>317.898633</td>\n",
       "      <td>1.284713</td>\n",
       "      <td>1.021234</td>\n",
       "      <td>2.0</td>\n",
       "      <td>94.014315</td>\n",
       "      <td>18.409011</td>\n",
       "      <td>168.151329</td>\n",
       "      <td>1.284713</td>\n",
       "      <td>34.072156</td>\n",
       "    </tr>\n",
       "    <tr>\n",
       "      <th>std</th>\n",
       "      <td>572.587452</td>\n",
       "      <td>112.038705</td>\n",
       "      <td>353.714688</td>\n",
       "      <td>0.639448</td>\n",
       "      <td>0.087919</td>\n",
       "      <td>0.0</td>\n",
       "      <td>222.193104</td>\n",
       "      <td>81.377816</td>\n",
       "      <td>181.483376</td>\n",
       "      <td>0.639448</td>\n",
       "      <td>31.956496</td>\n",
       "    </tr>\n",
       "    <tr>\n",
       "      <th>min</th>\n",
       "      <td>14304.000000</td>\n",
       "      <td>21.000000</td>\n",
       "      <td>-1592.490000</td>\n",
       "      <td>1.000000</td>\n",
       "      <td>1.000000</td>\n",
       "      <td>2.0</td>\n",
       "      <td>1.000000</td>\n",
       "      <td>-26.000000</td>\n",
       "      <td>0.000000</td>\n",
       "      <td>1.000000</td>\n",
       "      <td>0.000000</td>\n",
       "    </tr>\n",
       "    <tr>\n",
       "      <th>25%</th>\n",
       "      <td>14809.000000</td>\n",
       "      <td>41.000000</td>\n",
       "      <td>159.309167</td>\n",
       "      <td>1.000000</td>\n",
       "      <td>1.000000</td>\n",
       "      <td>2.0</td>\n",
       "      <td>17.000000</td>\n",
       "      <td>5.280612</td>\n",
       "      <td>0.000000</td>\n",
       "      <td>1.000000</td>\n",
       "      <td>0.000000</td>\n",
       "    </tr>\n",
       "    <tr>\n",
       "      <th>50%</th>\n",
       "      <td>15306.000000</td>\n",
       "      <td>76.000000</td>\n",
       "      <td>252.051667</td>\n",
       "      <td>1.000000</td>\n",
       "      <td>1.000000</td>\n",
       "      <td>2.0</td>\n",
       "      <td>42.000000</td>\n",
       "      <td>9.538462</td>\n",
       "      <td>130.000000</td>\n",
       "      <td>1.000000</td>\n",
       "      <td>31.666667</td>\n",
       "    </tr>\n",
       "    <tr>\n",
       "      <th>75%</th>\n",
       "      <td>15796.500000</td>\n",
       "      <td>171.000000</td>\n",
       "      <td>370.905000</td>\n",
       "      <td>1.408333</td>\n",
       "      <td>1.000000</td>\n",
       "      <td>2.0</td>\n",
       "      <td>101.000000</td>\n",
       "      <td>13.986111</td>\n",
       "      <td>280.000000</td>\n",
       "      <td>1.408333</td>\n",
       "      <td>52.833333</td>\n",
       "    </tr>\n",
       "    <tr>\n",
       "      <th>max</th>\n",
       "      <td>16303.000000</td>\n",
       "      <td>718.000000</td>\n",
       "      <td>7178.633333</td>\n",
       "      <td>14.166667</td>\n",
       "      <td>2.090909</td>\n",
       "      <td>2.0</td>\n",
       "      <td>5647.000000</td>\n",
       "      <td>1756.500000</td>\n",
       "      <td>697.000000</td>\n",
       "      <td>14.166667</td>\n",
       "      <td>163.000000</td>\n",
       "    </tr>\n",
       "  </tbody>\n",
       "</table>\n",
       "</div>"
      ],
      "text/plain": [
       "         CustomerID  DaysSinceLastPurchase  AvgSpendPerInvoiceByCustomer  \\\n",
       "count   1467.000000            1467.000000                   1467.000000   \n",
       "mean   15305.810498             121.764145                    317.898633   \n",
       "std      572.587452             112.038705                    353.714688   \n",
       "min    14304.000000              21.000000                  -1592.490000   \n",
       "25%    14809.000000              41.000000                    159.309167   \n",
       "50%    15306.000000              76.000000                    252.051667   \n",
       "75%    15796.500000             171.000000                    370.905000   \n",
       "max    16303.000000             718.000000                   7178.633333   \n",
       "\n",
       "       AverageNumTicketsPerMonth  AveragePurchasesPerWeek  pred_cluster  \\\n",
       "count                1467.000000              1467.000000        1467.0   \n",
       "mean                    1.284713                 1.021234           2.0   \n",
       "std                     0.639448                 0.087919           0.0   \n",
       "min                     1.000000                 1.000000           2.0   \n",
       "25%                     1.000000                 1.000000           2.0   \n",
       "50%                     1.000000                 1.000000           2.0   \n",
       "75%                     1.408333                 1.000000           2.0   \n",
       "max                    14.166667                 2.090909           2.0   \n",
       "\n",
       "       NumberInvoiceByCustomer  AverageQuantityByCustomer  CustomerDuration  \\\n",
       "count              1467.000000                1467.000000       1467.000000   \n",
       "mean                 94.014315                  18.409011        168.151329   \n",
       "std                 222.193104                  81.377816        181.483376   \n",
       "min                   1.000000                 -26.000000          0.000000   \n",
       "25%                  17.000000                   5.280612          0.000000   \n",
       "50%                  42.000000                   9.538462        130.000000   \n",
       "75%                 101.000000                  13.986111        280.000000   \n",
       "max                5647.000000                1756.500000        697.000000   \n",
       "\n",
       "         InvoiceNo  AverageDaysBNPurchases  \n",
       "count  1467.000000             1467.000000  \n",
       "mean      1.284713               34.072156  \n",
       "std       0.639448               31.956496  \n",
       "min       1.000000                0.000000  \n",
       "25%       1.000000                0.000000  \n",
       "50%       1.000000               31.666667  \n",
       "75%       1.408333               52.833333  \n",
       "max      14.166667              163.000000  "
      ]
     },
     "execution_count": 581,
     "metadata": {},
     "output_type": "execute_result"
    }
   ],
   "source": [
    "pd.merge(df_cluster[df_cluster['pred_cluster'] == 2], df_features).describe()"
   ]
  },
  {
   "cell_type": "markdown",
   "metadata": {
    "id": "ot5xEHEYHYWo"
   },
   "source": [
    "#### How often they buy, how much, are they a high value group or a low value?\n",
    "\n",
    "##### With the RFM model requested by the client, the clusters are very similar in terms of their average RFM values. Meaning the group sizes and average values for the RFM features are similar. Therefore, we added more features to see if we could notice any trends in other noteworthy characteristics. \n",
    "\n",
    "##### Cluster 1: From the RFM Model this cluster has the highest average spend per ticket and most recent average days since last purchase, however it has the smallest average number of tickets per month. Based on this we deduce these are are high value but infrequent customers. Alternatively, this cluster could be reflective of christmas shoppers due to the high average spend per ticket and having the earliest recency from our other clusters (recency features were based on distance from 12/31/2011).\n",
    "##### Cluster 2: From the RFM Model this cluster has the highest average monthly frequency but the lowest average spend per ticket. From our auxiliary features it has the highest average quantity of items purchased and least average days between purchases. Based on this we deduce these low value but frequent customers. \n",
    "##### Cluster 3: From the RFM Model this cluster has the second highest average spend per ticket. It also has the highest average number of tickets per month. From our auxiliary features it has the highest average number of ticket by customer. Based on this we deduce these are high value and high frequency customers. "
   ]
  },
  {
   "cell_type": "markdown",
   "metadata": {
    "id": "gQujCXrKHYWp"
   },
   "source": [
    "### Business Questions"
   ]
  },
  {
   "cell_type": "markdown",
   "metadata": {
    "id": "pol9sLJFHYWp"
   },
   "source": [
    "#### How many groups of customers do we have?\n",
    "##### Based on the RFM model there are 3 groups of customers."
   ]
  },
  {
   "cell_type": "markdown",
   "metadata": {
    "id": "g5p93r7NHYWp"
   },
   "source": [
    "#### Which is their profile?\n",
    "##### Cluster 1: Customers with the highest ticket values but lowest frequency. \n",
    "##### Cluster 2: Customers with the lowest ticket values but highest frequency.\n",
    "##### Cluster 3: Customers with high ticket values and high frequency. Our best customers!"
   ]
  }
 ],
 "metadata": {
  "colab": {
   "provenance": []
  },
  "kernelspec": {
   "display_name": "Python 3 (ipykernel)",
   "language": "python",
   "name": "python3"
  },
  "language_info": {
   "codemirror_mode": {
    "name": "ipython",
    "version": 3
   },
   "file_extension": ".py",
   "mimetype": "text/x-python",
   "name": "python",
   "nbconvert_exporter": "python",
   "pygments_lexer": "ipython3",
   "version": "3.10.6"
  },
  "toc": {
   "base_numbering": 1,
   "nav_menu": {},
   "number_sections": true,
   "sideBar": true,
   "skip_h1_title": false,
   "title_cell": "Table of Contents",
   "title_sidebar": "Contents",
   "toc_cell": false,
   "toc_position": {},
   "toc_section_display": true,
   "toc_window_display": false
  }
 },
 "nbformat": 4,
 "nbformat_minor": 1
}
